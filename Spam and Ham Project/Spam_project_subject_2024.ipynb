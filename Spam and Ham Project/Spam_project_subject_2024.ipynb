{
  "cells": [
    {
      "cell_type": "markdown",
      "metadata": {
        "id": "7SV3xvq959rX"
      },
      "source": [
        "# Spam or Ham (project 1)\n",
        "\n",
        "## 1- Introduction with the Bernoulli model\n",
        "\n",
        "\n",
        "We say that a random variables $X \\in \\{0, 1\\}$ follows a Bernoulli distribution of parameter $\\theta$ if $\\mathbb{P}(X = 1) = \\theta$ and $\\mathbb{P}(X = 0) = 1 − \\theta$.\n",
        "\n",
        "\n",
        "1.  Show that we can write the probability distribution of $X$ in a compact form as :\n",
        "$$\n",
        "\\mathbb{P}(X = x) = \\theta^{x} (1 − \\theta)^{1−x}\n",
        "$$\n",
        "\n",
        "2. Suppose now that we have a set of n independent variables $x_1,...,x_n$. If we note $n_1 = \\sum_{i=1}^n \\mathbb{1}_{\\{x_i=1\\}}$ and $n_0 = n − n_1$, show that :\n",
        "$$\n",
        "\\mathbb{P}(x_1,\\ldots,x_n \\mid \\theta)=\\theta^{n_1} (1−\\theta)^{n_0}\n",
        "$$\n",
        "\n",
        "3. Show that the maximum likelihood estimator is $\\hat{\\theta}_{ML} = \\frac{n_1}{n}$\n",
        "\n",
        "4. A conjugate prior for the Bernoulli distribution is the Beta distribution.\n",
        "$$\n",
        "Beta(\\theta \\mid a, b) \\propto \\theta^{a−1} (1 − \\theta)^{b−1}\n",
        "$$\n",
        "The Beta distribution has the following properties for its expectation and mode (for more details you can look in one of the books like the Bishop):\n",
        "$$\n",
        "\\mathbb{E}(\\theta) = \\frac{a}{a+b} \\text{, mode}(\\theta) = \\frac{a-1}{a+b-2}\n",
        "$$\n",
        "\n",
        "Show that with a $Beta(a,b)$ prior the posterior distribution\n",
        "$\\mathbb{P}(\\theta \\mid x_1,\\ldots, x_n)$\n",
        "is proportional to $\\theta^{n_1+a-1} \\cdot (1 − \\theta)^{n_0+b-1}$\n",
        "\n",
        "5. (Those two questions are optional, you can also simply use the result in the following)\n",
        "\n",
        "  a. Show that the maximum a posteriori _mode_ estimate is in the form $\\bar{\\theta}_{MAP} = \\frac{n_1+a-1}{n+a+b-2}$\n",
        "\n",
        "  b. Show that the maximum a posteriori\n",
        "_mean_ estimate is in the form $\\hat{\\theta}_{MAP} = \\mathbb{E}(\\theta \\mid x_1,\\ldots, x_n) =\n",
        "\\int_{\\theta =0}^1 \\mathbb{P}(\\theta \\mid x_1\\ldots x_n) d\\theta  = \\frac{n_1+a}{n+a+b}$\n"
      ]
    },
    {
      "cell_type": "markdown",
      "metadata": {
        "id": "rgMmHN2A59rf"
      },
      "source": [
        "## _write your answers to the questions here (you can also provide a scanned pdf of your answers with the notebook)_\n",
        "1. We can show the\n",
        "$\\mathbb{P}(X = x) = \\theta^{x} (1 − \\theta)^{1−x}$ by replacing the value of x=1, and x =0 as follow:\n",
        "\n",
        "&nbsp;&nbsp;&nbsp;&nbsp;&nbsp;If x = 1:\n",
        "\n",
        "&nbsp;&nbsp;&nbsp;&nbsp;&nbsp;&nbsp;&nbsp;&nbsp;&nbsp;&nbsp;$\\mathbb{P}(X = 1) = \\theta^{1} (1 − \\theta)^{1−1}$ = $\\theta$. This correctly shows the probability of X=1 or success\n",
        "\n",
        "  &nbsp;&nbsp;&nbsp;&nbsp;&nbsp;If x = 0:\n",
        "\n",
        "&nbsp;&nbsp;&nbsp;&nbsp;&nbsp;&nbsp;&nbsp;&nbsp;&nbsp;&nbsp;$\\mathbb{P}(X = 0) = \\theta^{0} (1 − \\theta)^{1−0}$ = 1- $\\theta$ . This correctly shows the probability of X=0 or failure\n",
        "\n",
        "\n",
        "2. Suppose now that we have a set of n independent variables $x_1,...,x_n$. If we note $n_1 = \\sum_{i=1}^n \\mathbb{1}_{\\{x_i=1\\}}$ and $n_0 = n − n_1$, show that :\n",
        "$$\n",
        "\\mathbb{P}(x_1,\\ldots,x_n \\mid \\theta)=\\theta^{n_1} (1−\\theta)^{n_0}\n",
        "$$\n",
        " Since the variables of $x_1...x_n$ are independent Bernoulli random variables with parameter 𝜃, the joint probabilities are the product of each $x_i \\mid \\theta$.  \n",
        " $\\mathbb{P}(x_i \\mid \\theta) =\\theta^{x_i} (1−\\theta)^{1-x_i} $ for each $x_i$.\n",
        "\n",
        " and the joint probabilities $P(x_1, \\dots, x_n \\mid \\theta)$ is the product of the individual probabilities:\n",
        "\n",
        "&nbsp;&nbsp;&nbsp;&nbsp;&nbsp;&nbsp;&nbsp;&nbsp;&nbsp;&nbsp;$P(x_1, \\dots, x_n \\mid \\theta) = \\prod_{i=1}^{n} P(x_i \\mid \\theta) = \\prod_{i=1}^{n} \\theta^{x_i} (1 - \\theta)^{1 - x_i} = \\theta^{x_i} (1 - \\theta)^{1 - x_i}....\\theta^{x_i} (1 - \\theta)^{1 - x_i} = \\theta^{\\sum x_i} (1 - \\theta)^{\\sum 1 - x_i} $\n",
        "according to the question $\\sum x_i =n_1$, and $\\sum (1-x_i) = n_0$. We can rewrite it as:\n",
        "$$\n",
        "\\mathbb{P}(x_1,\\ldots,x_n \\mid \\theta)=\\theta^{n_1} (1−\\theta)^{n_0}\n",
        "$$\n",
        "\n",
        "3. Show that the maximum likelihood estimator is $\\hat{\\theta}_{ML} = \\frac{n_1}{n}$.\n",
        "\n",
        "\\\\\n",
        "According to question 2, $P(x_1, \\ldots, x_n | \\theta) = \\theta^{n_1} (1 - \\theta)^{n_0}$. So we have:\n",
        "\n",
        "$$\\ P(x_1, \\ldots, x_n | \\theta) = \\theta^{n_1} (1 - \\theta)^{n_0}$$\n",
        "We take the log likelyhood for siplicity.\n",
        "\n",
        "$$log L(x_1, \\ldots, x_n |\\theta) = n_1 \\log \\theta + n_0 \\log (1 - \\theta)$$\n",
        "\n",
        "Take derivative with respect to $\\theta$ and set to zero:\n",
        "\\begin{align*}\n",
        "\\frac{d}{d\\theta} \\left(n_1 \\log \\theta\\right) + \\frac{d}{d\\theta} \\left(n_0 \\log (1 - \\theta)\\right) &= 0 \\\\\n",
        "\\frac{n_1}{\\theta} - \\frac{n_0}{1 - \\theta} &= 0 \\quad \\Rightarrow \\quad \\frac{n_1}{\\theta} = \\frac{n_0}{1 - \\theta} \\\\\n",
        "n_1 - n_1\\theta= n_0  \\theta \\\\\n",
        "n_1 &= n_0  \\theta + n_1  \\theta \\\\\n",
        "n_1 &= \\theta (n_1 + n_0) \\\\\n",
        "n_1 &= \\theta n \\\\\n",
        "\\theta= \\frac{n_1}{n}\n",
        "\\end{align*}\n",
        "\n",
        "\n",
        "4. A conjugate prior for the Bernoulli distribution is the Beta distribution.\n",
        "$$\n",
        "Beta(\\theta \\mid a, b) \\propto \\theta^{a−1} (1 − \\theta)^{b−1}\n",
        "$$\n",
        "The Beta distribution has the following properties for its expectation and mode (for more details you can look in one of the books like the Bishop):\n",
        "$$\n",
        "\\mathbb{E}(\\theta) = \\frac{a}{a+b} \\text{, mode}(\\theta) = \\frac{a-1}{a+b-2}\n",
        "$$\n",
        "\n",
        "Show that with a $Beta(a,b)$ prior the posterior distribution\n",
        "$\\mathbb{P}(\\theta \\mid x_1,\\ldots, x_n)$\n",
        "is proportional to $\\theta^{n_1+a-1} \\cdot (1 − \\theta)^{n_0+b-1}$\n",
        "\\\\\n",
        "\n",
        "\n",
        "4. The posterior distribution of $\\mathbb{P}(\\theta \\mid x_1,\\ldots, x_n)$  $\\propto$ $Beta(\\theta \\mid a, b) . \\mathbb{P}(x_1,\\ldots,x_n \\mid \\theta)$ where $Beta(\\theta \\mid a, b)$ is the prior and $\\mathbb{P}(x_1,\\ldots,x_n \\mid \\theta)$ is the likelyhood.\n",
        "\n",
        "\n",
        "Now we only substitute the equations from our findings in previous questions.\n",
        "$$\n",
        "\\mathbb{P}(\\theta \\mid x_1,\\ldots, x_n)\\propto Beta(\\theta \\mid a, b).\\mathbb{P}(x_1,\\ldots,x_n \\mid \\theta)\n",
        "$$\n",
        "$$\n",
        "\\mathbb{P}(\\theta \\mid x_1,\\ldots, x_n)\\propto \\theta^{a−1} (1 − \\theta)^{b−1}.\\theta^{n_1} (1−\\theta)^{n_0}\n",
        "$$\n",
        "$$\n",
        "\\mathbb{P}(\\theta \\mid x_1,\\ldots, x_n)\\propto \\theta^{n_1+a−1} (1 − \\theta)^{n_0+b−1}\n",
        "$$\n",
        "\n",
        "5.a. For solving this quesion, we take the log likelyhood of $\\mathbb{P}(\\theta \\mid x_1,\\ldots, x_n)\\propto \\theta^{n_1+a−1} (1 − \\theta)^{n_0+b−1}$. Then take drivative with respect to $\\theta$ and set it to zero, and solve it for $\\theta$.\n",
        "\n",
        "\n",
        "$$\n",
        "\\log(\\mathbb{P}(\\theta \\mid x_1,\\ldots, x_n)) = (n_1+a−1).log\\theta + (1 − \\theta).(n_0+b−1)log(1-\\theta)\n",
        "$$\n",
        "take drivative with respect to $\\theta$ and set it to zero, and solve it for $\\theta$.\n",
        "$$\n",
        "\\frac{d}{d\\theta} \\left( (n_1 + a - 1) \\log \\theta + (n_0 + b - 1) \\log (1 - \\theta) \\right)=0\n",
        "$$\n",
        "\n",
        "$$\n",
        "\\frac{n_1 + a - 1}{\\theta} - \\frac{n_0 + b - 1}{1 - \\theta} = 0\n",
        "$$\n",
        "\n",
        "$$\n",
        "(n_1 + a - 1)(1 - \\theta) = (n_0 + b - 1)\\theta\n",
        "$$\n",
        "$$\n",
        "(n_1 + a - 1) - (n_1 + a - 1)\\theta = (n_0 + b - 1)\\theta\n",
        "$$\n",
        "\n",
        "$$\n",
        "(n_1 + a - 1) = \\theta \\left( (n_1 + a - 1) + (n_0 + b - 1) \\right)\n",
        "$$\n",
        "$$\n",
        "n = n_1 + n_0\n",
        "$$\n",
        "$$\n",
        "(n_1 + a - 1) = \\theta (n + a + b - 2)\n",
        "$$\n",
        "\n",
        "$$\n",
        "\\theta = \\frac{n_1 + a - 1}{n + a + b - 2}\n",
        "$$\n",
        "\n",
        "$$\n",
        "\\overline{\\theta}_{\\text{MAP}} = \\frac{n_1 + a - 1}{n + a + b - 2}\n",
        "$$\n",
        "\n",
        "\n"
      ]
    },
    {
      "cell_type": "markdown",
      "metadata": {
        "id": "znvpomQP59rg"
      },
      "source": [
        "## Spam classifier\n",
        "\n",
        "The goal of this small project is to use a Naive bayes classifier to build a spam filter. To build our filter, we will use a dataset of 5,572 SMS messages put together by Tiago A. Almeida and José María Gómez Hidalgo.\n",
        "The dataset and the article describing the dataset are in the whiteboard directory together with this notebook. Of note, the SMS messages have already been processed for ease of use: all punctuation marks have been removed and the text has been transformed into lowercase. It is also common practice to remove any stop words such as `a`, `as`, `the` and to perform stemming (reduce words to their base form, such as stripping  the final `s*` in plural words, or the `*ing` from verbs (e.g., running becomes run)). For the sake of simplicity, we did not do that in this exercise.\n",
        "\n",
        "We will use a bag of word model:\n",
        " - We construct a corpus of the possible words $\\mathcal{D} = \\{w_1, \\ldots , w_d\\}$.\n",
        " - Each document is described by a vector of binary values $(x^{(1)}, \\ldots , x^{(d)})$ where $x^{(i)} = 1$ if $w_i$ occurs in the document and $0$ otherwise.\n",
        "\n",
        "The classification task is to predict for an SMS message if it is a _spam_ or a _ham_ (e.g. non-spam).\n",
        "\n",
        "Our data is thus $\\mathbf{x} = (x^{(1)},\\ldots, x^{(d)})$, $x^{(i)} \\in \\{0,1\\}$ and $y \\in \\{s,h\\}$\n",
        "We hypothesise that the values $x^{(i)}$ are drawn according to a Bernoulli distribution whose parameter depends on the class:\n",
        "$$\n",
        "\\mathbb{P}(x^{(i)} \\mid y = s) = \\theta_{i,s}^{x^{(i)}} \\cdot (1-\\theta_{i,s})^{1-x^{(i)}}\n",
        "$$\n",
        "and\n",
        "$$\n",
        "\\mathbb{P}(x^{(i)} \\mid y = h) = \\theta_{i,h}^{x^{(i)}} \\cdot (1-\\theta_{i,h})^{1-x^{(i)}}\n",
        "$$\n",
        "As we will use a naive Bayes classifier, the occurences of the different words are independent from each other.\n",
        "\\begin{align}\n",
        "\\mathbb{P}(\\mathbf{x} \\mid y = s) & = \\prod_{i=1}^{d} \\mathbb{P} (x^{(i)} \\mid y = s)\\\\\n",
        "  & =  \\prod_{i=1}^{d} \\theta_{i,s}^{x^{(i)}} \\cdot (1-\\theta_{i,s})^{1-x^{(i)}}\n",
        "\\end{align}\n"
      ]
    },
    {
      "cell_type": "markdown",
      "metadata": {
        "id": "GiZBb_fW59ri"
      },
      "source": [
        "## Importing library and loading dataset"
      ]
    },
    {
      "cell_type": "code",
      "execution_count": null,
      "metadata": {
        "id": "GOtJLKUm59rk"
      },
      "outputs": [],
      "source": [
        "%matplotlib inline\n",
        "import numpy as np\n",
        "from collections import Counter\n",
        "\n",
        "##Load the dataset (if in the same directory as the notebook)\n",
        "sms_data = np.loadtxt(\"/content/SMSSpamCollection_cleaned.csv\", delimiter=\"\\t\", skiprows=1, dtype=str)\n",
        "\n",
        "## create test data set for checkpointing\n",
        "checkpoint_data = np.array([['spam', 'dear researcher submit manuscript money'],\n",
        "          ['ham','dear friend meet beer'],\n",
        "          ['ham', 'dear friend meet you']], dtype=str)"
      ]
    },
    {
      "cell_type": "code",
      "execution_count": null,
      "metadata": {
        "colab": {
          "base_uri": "https://localhost:8080/"
        },
        "id": "gNXYi6dd59ro",
        "outputId": "c7d03f42-508d-401b-9b96-16430112e663"
      },
      "outputs": [
        {
          "data": {
            "text/plain": [
              "(5572, 2)"
            ]
          },
          "execution_count": 2,
          "metadata": {},
          "output_type": "execute_result"
        }
      ],
      "source": [
        "##Check the dataset\n",
        "sms_data.shape"
      ]
    },
    {
      "cell_type": "code",
      "execution_count": null,
      "metadata": {
        "colab": {
          "base_uri": "https://localhost:8080/"
        },
        "id": "DE-U4VmXTYGD",
        "outputId": "890aa789-05a0-4c75-eaec-6236d5aa5f6d"
      },
      "outputs": [
        {
          "data": {
            "text/plain": [
              "array([['spam', 'dear researcher submit manuscript money'],\n",
              "       ['ham', 'dear friend meet beer'],\n",
              "       ['ham', 'dear friend meet you']], dtype='<U39')"
            ]
          },
          "execution_count": 3,
          "metadata": {},
          "output_type": "execute_result"
        }
      ],
      "source": [
        "checkpoint_data"
      ]
    },
    {
      "cell_type": "code",
      "execution_count": null,
      "metadata": {
        "colab": {
          "base_uri": "https://localhost:8080/"
        },
        "id": "O18a2_YC59rq",
        "outputId": "0a3679ea-a75e-4d0a-cdc0-3f0e7e9101fc"
      },
      "outputs": [
        {
          "name": "stdout",
          "output_type": "stream",
          "text": [
            "5572\n",
            "['spam'\n",
            " 'free entry in 2 a wkly comp to win fa cup final tkts 21st may 2005  text fa to 87121 to receive entry question std txt rate t c s apply 08452810075over18 s']\n",
            "Third message is a: spam\n",
            "['free', 'entry', 'in', '2', 'a', 'wkly', 'comp', 'to', 'win', 'fa', 'cup', 'final', 'tkts', '21st', 'may', '2005', 'text', 'fa', 'to', '87121', 'to', 'receive', 'entry', 'question', 'std', 'txt', 'rate', 't', 'c', 's', 'apply', '08452810075over18', 's']\n"
          ]
        }
      ],
      "source": [
        "##Check the size of the dataset\n",
        "num_messages = sms_data.shape[0]\n",
        "print(num_messages)\n",
        "\n",
        "##third message is a...\n",
        "print(sms_data[2])\n",
        "print(\"Third message is a:\", sms_data[2][0])\n",
        "##dividing the third message into words\n",
        "print(sms_data[2][1].split())"
      ]
    },
    {
      "cell_type": "markdown",
      "metadata": {
        "id": "4PVVloP359rr"
      },
      "source": [
        "## 2 - Construction of the Corpus\n",
        "\n",
        "Construct the corpus $\\mathcal{D}$ of all words in the dataset. The corpus will be represented as a hash table where each key is a unique word in the dataset and each value is the row index for that word.\n",
        " - How many unique words are there?\n",
        " - What are the 10 most common words (_e.g._ occuring in the most documents)?\n",
        " - Transform the set of messages in the form of a binary matrix of word occurrences.\n",
        "\n",
        " You can evaluate whether your implementation works using the checkpoint_data array. For this dataset the corpus could look as follows :\n",
        "\n",
        "`{'dear': 0, 'researcher': 1, 'submit': 2, 'manuscript': 3, 'money': 4, 'friend': 5, 'meet': 6, 'beer': 7, 'you': 8}`\n",
        "(of course you could have other index values for the words).\n",
        "\n",
        "The recoding of the checkpoint data will give you the following numpy array:\n",
        "\n",
        "```\n",
        "[[1. 1. 1. 1. 1. 0. 0. 0. 0.]\n",
        " [1. 0. 0. 0. 0. 1. 1. 1. 0.]\n",
        " [1. 0. 0. 0. 0. 1. 1. 0. 1.]]\n",
        "```"
      ]
    },
    {
      "cell_type": "code",
      "execution_count": null,
      "metadata": {
        "colab": {
          "base_uri": "https://localhost:8080/"
        },
        "id": "vaTqwbQR59rs",
        "outputId": "5242fe16-db76-4d9c-d6de-4130f9be1fc0"
      },
      "outputs": [
        {
          "name": "stdout",
          "output_type": "stream",
          "text": [
            "{'dear': 0, 'researcher': 1, 'submit': 2, 'manuscript': 3, 'money': 4, 'friend': 5, 'meet': 6, 'beer': 7, 'you': 8}\n"
          ]
        }
      ],
      "source": [
        "def construct_corpus(data):\n",
        "    \"\"\"\n",
        "    np.array[str, str] -> dict[str:int]\n",
        "\n",
        "    from a 2D array of str, return a hash table\n",
        "    \"\"\"\n",
        "    corpus = {}\n",
        "    for sample in data:\n",
        "        text = sample[1]\n",
        "        words = text.split()\n",
        "        for word in words:\n",
        "            if word not in corpus.keys():\n",
        "                corpus[word] = len(corpus.keys())\n",
        "    return corpus\n",
        "\n",
        "\n",
        "##test\n",
        "print(construct_corpus(checkpoint_data))\n"
      ]
    },
    {
      "cell_type": "code",
      "execution_count": null,
      "metadata": {
        "colab": {
          "base_uri": "https://localhost:8080/"
        },
        "id": "U69NZNmP59rt",
        "outputId": "7aceaccc-e52e-41af-a618-db0f38780877"
      },
      "outputs": [
        {
          "data": {
            "text/plain": [
              "array([[1, 1, 1, ..., 0, 0, 0],\n",
              "       [0, 0, 0, ..., 0, 0, 0],\n",
              "       [0, 0, 0, ..., 0, 0, 0],\n",
              "       ...,\n",
              "       [0, 0, 0, ..., 1, 1, 0],\n",
              "       [0, 0, 0, ..., 0, 0, 1],\n",
              "       [0, 0, 0, ..., 0, 0, 0]])"
            ]
          },
          "execution_count": 6,
          "metadata": {},
          "output_type": "execute_result"
        }
      ],
      "source": [
        "\n",
        "\n",
        "def recode_messages(data, corpus):\n",
        "    \"\"\"\n",
        "    np.array[str, str] * dict[str:int] -> np.array[int, int]\n",
        "\n",
        "    returns the binary matrix encoding\n",
        "    \"\"\"\n",
        "    matrix = np.array([[0] * len(corpus.keys()) for i in range(data.shape[0])])\n",
        "    for sample_idx, sample in enumerate(data):\n",
        "        text = sample[1]\n",
        "        words = text.split()\n",
        "        for word in words:\n",
        "            matrix[sample_idx][corpus[word]] = 1\n",
        "    return matrix\n",
        "\n",
        "D = construct_corpus(sms_data)\n",
        "\n",
        "sms_matrix = recode_messages(sms_data, D)\n",
        "\n",
        "sms_matrix"
      ]
    },
    {
      "cell_type": "markdown",
      "metadata": {
        "id": "ChXgDA-B59ru"
      },
      "source": [
        "## 3 - Construct a training and a testing set and estimation of parameters\n",
        "\n",
        "\n",
        "To do the evaluation of the model afterward we will split the dataset randomly in two:\n",
        "- one dataset for training (80% of the messages)\n",
        "- one dataset for testing (20% of the messages).\n",
        "\n",
        "If you are familiar with it, you can use the `sklearn.model_selection` functions to construct the train and test datasets.\n"
      ]
    },
    {
      "cell_type": "code",
      "execution_count": null,
      "metadata": {
        "id": "8U5a7zX68XWY"
      },
      "outputs": [],
      "source": [
        "import sklearn.model_selection as ms"
      ]
    },
    {
      "cell_type": "code",
      "execution_count": null,
      "metadata": {
        "id": "PTV6Bj1w59rv"
      },
      "outputs": [],
      "source": [
        "def train_test_split(X, Y, train_percentage=0.8):\n",
        "    assert X.shape[0] == Y.shape[0]\n",
        "\n",
        "    return ms.train_test_split(X, Y, train_size=train_percentage, random_state=86, shuffle=True)\n",
        "\n",
        "X_train, X_test, Y_train, Y_test = train_test_split(sms_matrix, sms_data[:,0])"
      ]
    },
    {
      "cell_type": "markdown",
      "metadata": {
        "id": "1DlRlJ9B59rv"
      },
      "source": [
        "## 4 - Estimation of the model parameters\n",
        "\n",
        "We will now estimate our model on the training set. This means estimating two types of parameters: the class prior, and the conditional word occurence probabilities.\n",
        "\n",
        "1.  Estimate the class prior $\\mathbb{P}(c) = \\mathbb{P}(y = c), (c = s, h)$\n",
        "2.  Using the results from section 1, compute the Maximum a posteriori estimator for the $d \\times 2$ matrix of parameters.\n",
        "$$\n",
        "\\Theta = \\left(\n",
        "\\begin{array}{cc}\n",
        "\\theta_{1,h}   & \\theta_{1,s} \\\\\n",
        "\\theta_{2,h} & \\theta_{2,s} \\\\\n",
        "\\vdots & \\vdots \\\\\n",
        "\\theta_{d,h} & \\theta_{d,s} \\\\\n",
        "\\end{array}\n",
        "\\right).\n",
        "$$ You can use as conjugate prior a Beta(1, 1) distribution for instance (then $\\theta_{i,c} = \\frac{n_{i,c}+1}{N+2}$ where $n_{i,c}$ is the number of documents from the class $c$ where the word $w_i$ is present and $N$ is the total number of documents).\n",
        "\n",
        "When applied to the checkpoint data, your $\\Theta$ matrix should look like this:\n",
        "\n",
        "```\n",
        "# h    s\n",
        "[[0.75 0.66666667]  #'dear'\n",
        " [0.25 0.66666667]  #'researcher'\n",
        " [0.25 0.66666667]  #'submit'\n",
        " [0.25 0.66666667]  #'manuscript'\n",
        " [0.25 0.66666667]  #'money'\n",
        " [0.75 0.33333333]  #'friend'\n",
        " [0.75 0.33333333]  #'meet'\n",
        " [0.5  0.33333333]  #'beer'\n",
        " [0.5  0.33333333]] #'you'\n",
        "```\n",
        "\n",
        "3. Represent the fitted class conditional densities $(\\theta_{i,h})_{i \\in \\mathcal{D}}$ and $(\\theta_{i,s})_{i \\in \\mathcal{D}}$ like on the corresponding slide of the course.\n"
      ]
    },
    {
      "cell_type": "code",
      "execution_count": null,
      "metadata": {
        "id": "QAAShKCG8XWZ"
      },
      "outputs": [],
      "source": [
        "def extract_labels(data):\n",
        "    return np.array([1 if elem == \"spam\" else 0 for elem in data])"
      ]
    },
    {
      "cell_type": "code",
      "execution_count": null,
      "metadata": {
        "id": "Snhzg9uC8XWZ"
      },
      "outputs": [],
      "source": [
        "Y_train_labels = extract_labels(Y_train)\n",
        "Y_test_labels = extract_labels(Y_test)"
      ]
    },
    {
      "cell_type": "code",
      "execution_count": null,
      "metadata": {
        "colab": {
          "base_uri": "https://localhost:8080/"
        },
        "id": "o553FGYM59rw",
        "outputId": "6ccb859d-7584-41e2-ce3e-afa6789ece08"
      },
      "outputs": [
        {
          "name": "stdout",
          "output_type": "stream",
          "text": [
            "Counter({np.int64(0): 3853, np.int64(1): 604})\n",
            "{np.int64(1): 0.13551716401166705, np.int64(0): 0.864482835988333}\n"
          ]
        }
      ],
      "source": [
        "## Your code here for class priors\n",
        "\n",
        "def estimate_proportions(X, y):\n",
        "    \"\"\"\n",
        "    estimate the matrix theta\n",
        "    \"\"\"\n",
        "    N, d = X.shape\n",
        "\n",
        "    alpha = 1.0\n",
        "\n",
        "    class_counts = Counter(y)\n",
        "    print(class_counts)\n",
        "    P_c = {c: class_counts[c] / N for c in class_counts.keys()}\n",
        "    print(P_c)\n",
        "\n",
        "    theta = np.zeros((d, 2))\n",
        "    for c in range(2):\n",
        "        X_c = X[y == c]\n",
        "\n",
        "        N_c_j = np.sum(X_c, axis=0) # number of documents in class c containing word j\n",
        "        N_c = np.sum(y == c) # number of documents in class c\n",
        "        theta[:, c] = (N_c_j + alpha) / (N_c + 2 * alpha)\n",
        "    return P_c, theta\n",
        "estimates = estimate_proportions(X_train, extract_labels(Y_train))"
      ]
    },
    {
      "cell_type": "code",
      "execution_count": null,
      "metadata": {
        "colab": {
          "base_uri": "https://localhost:8080/",
          "height": 688
        },
        "id": "4NlkHkkp8XWa",
        "outputId": "8e12c03a-254f-4746-e009-0b24fff95d3d"
      },
      "outputs": [
        {
          "data": {
            "image/png": "[encoded data removed]",
            "text/plain": [
              "<Figure size 1400x600 with 1 Axes>"
            ]
          },
          "metadata": {},
          "output_type": "display_data"
        },
        {
          "data": {
            "image/png": "[encoded data removed]",
            "text/plain": [
              "<Figure size 1400x600 with 1 Axes>"
            ]
          },
          "metadata": {},
          "output_type": "display_data"
        }
      ],
      "source": [
        "%matplotlib inline\n",
        "import matplotlib.pyplot as plt\n",
        "\n",
        "def plot_class_conditional_densities(X, y):\n",
        "    class_0_word_counts = np.sum(X[y == 0], axis=0)  # Sum across columns for class 0\n",
        "    class_1_word_counts = np.sum(X[y == 1], axis=0)  # Sum across columns for class 1\n",
        "\n",
        "    # Plot word frequencies for Class 0\n",
        "    plt.figure(figsize=(14, 6))\n",
        "    plt.bar(range(len(class_0_word_counts)), class_0_word_counts, color='black', alpha=1)\n",
        "    plt.xlabel('Words (Index)')\n",
        "    plt.ylabel('Frequency in Class Ham')\n",
        "    plt.title('Word Frequencies for Class Ham')\n",
        "    plt.grid(axis='y', linestyle='--', alpha=0.7)\n",
        "    plt.show()\n",
        "\n",
        "    # Plot word frequencies for Class 1\n",
        "    plt.figure(figsize=(14, 6))\n",
        "    plt.bar(range(len(class_1_word_counts)), class_1_word_counts, color='black', alpha=1)\n",
        "    plt.xlabel('Words (Index)')\n",
        "    plt.ylabel('Frequency in Class Spam')\n",
        "    plt.title('Word Frequencies for Class Spam')\n",
        "    plt.grid(axis='y', linestyle='--', alpha=0.7)\n",
        "    plt.show()\n",
        "\n",
        "\n",
        "plot_class_conditional_densities(sms_matrix, extract_labels(sms_data[:,0]))"
      ]
    },
    {
      "cell_type": "markdown",
      "metadata": {
        "id": "56t6EM8459rx"
      },
      "source": [
        "## 4 - Message classification\n",
        "\n",
        "\n",
        "3. Classify the messages in the test set using the Maximum a posteriori rule, and evaluate the performance of the model by computing the True Positive Rate (also called Sensitivity) and the False Positive Rate (the same as 1-Specificity).\n",
        "\n",
        "4. The performance of the model above was obtained by using a classification threshold of $0.5$ on the posterior probability. In other words, if $\\mathbb{P}(y = s \\mid \\mathbb{x}) \\ge 0.5$ then the message is classified as spam. Draw a ROC curve for your classifier. Note that you have to consider multiple values of the threshold to draw the ROC curve.\n",
        "\n",
        "5. Why did we use the Maximum a posteriori estimator rather than the maximum likelihood one?\n",
        "\n",
        "\n"
      ]
    },
    {
      "cell_type": "code",
      "execution_count": null,
      "metadata": {
        "id": "vPnrSjb68XWb"
      },
      "outputs": [],
      "source": [
        "def classify(X, proportions, threshold=None):\n",
        "    \"\"\"\n",
        "    classify the data\n",
        "    X: the data to classify\n",
        "    proportions: the estimated proportions\n",
        "    threshold: the threshold to use for classification\n",
        "    \"\"\"\n",
        "    P_c, theta = proportions\n",
        "    N, d = X.shape\n",
        "    posteriors = np.zeros((N, 2))\n",
        "    # if threshold is set, we normalize the probabilities using P(y=c|x) = p_c/w\n",
        "    # w = sum_c^C p_c\n",
        "    # p_c = p(x|y=c)p(y=c)\n",
        "    # we dont use log probabilities here\n",
        "    if threshold is not None:\n",
        "        for i in range(N):\n",
        "            for c in range(2):\n",
        "                posteriors[i, c] = P_c[c] * np.prod(theta[:, c] ** X[i] * (1 - theta[:, c]) ** (1 - X[i]))\n",
        "            posteriors[i] = posteriors[i] / np.sum(posteriors[i])\n",
        "        for i in range(N):\n",
        "            if posteriors[i, 1] > threshold:\n",
        "                posteriors[i] = [0, 1]\n",
        "            else:\n",
        "                posteriors[i] = [1, 0]\n",
        "        return np.argmax(posteriors, axis=1)\n",
        "    else:\n",
        "        for i in range(N):\n",
        "            for c in range(2):\n",
        "                posteriors[i, c] = np.log(P_c[c]) + np.sum(X[i] * np.log(theta[:, c]) + (1 - X[i]) * np.log(1 - theta[:, c]))\n",
        "        return np.argmax(posteriors, axis=1)"
      ]
    },
    {
      "cell_type": "code",
      "execution_count": null,
      "metadata": {
        "colab": {
          "base_uri": "https://localhost:8080/"
        },
        "id": "NdLaeP6c8XWb",
        "outputId": "858e3e79-1ee6-46e5-813c-e23a2e2dbbe9"
      },
      "outputs": [
        {
          "data": {
            "text/plain": [
              "array([0, 1, 0, ..., 0, 0, 0])"
            ]
          },
          "execution_count": 14,
          "metadata": {},
          "output_type": "execute_result"
        }
      ],
      "source": [
        "sms_predictions = classify(X_test, estimates)\n",
        "sms_predictions"
      ]
    },
    {
      "cell_type": "code",
      "execution_count": null,
      "metadata": {
        "colab": {
          "base_uri": "https://localhost:8080/"
        },
        "id": "h7QIugDi8XWb",
        "outputId": "68441f33-ced7-4fdc-ada2-0336f31f8f15"
      },
      "outputs": [
        {
          "data": {
            "text/plain": [
              "(np.float64(0.8741258741258742), np.float64(0.9989711934156379))"
            ]
          },
          "execution_count": 15,
          "metadata": {},
          "output_type": "execute_result"
        }
      ],
      "source": [
        "def evaluate(scores, y):\n",
        "    true_positives = np.sum(scores * y) / np.sum(y)\n",
        "    false_negatives = np.sum((-scores + 1) * (-y + 1)) / np.sum(-y + 1)\n",
        "    return true_positives, false_negatives\n",
        "evaluate(sms_predictions, Y_test_labels)"
      ]
    },
    {
      "cell_type": "code",
      "execution_count": null,
      "metadata": {
        "colab": {
          "base_uri": "https://localhost:8080/"
        },
        "id": "b-Mslb3v8XWc",
        "outputId": "9bf1eb96-a37c-4ccf-b06e-c646503eff5f"
      },
      "outputs": [
        {
          "data": {
            "text/plain": [
              "array([0, 1, 0, ..., 0, 0, 0])"
            ]
          },
          "execution_count": 16,
          "metadata": {},
          "output_type": "execute_result"
        }
      ],
      "source": [
        "# now we can use the threshold\n",
        "sms_thresh_predictions = classify(X_test, estimates, 0.5)\n",
        "sms_thresh_predictions"
      ]
    },
    {
      "cell_type": "code",
      "execution_count": null,
      "metadata": {
        "colab": {
          "base_uri": "https://localhost:8080/"
        },
        "id": "WnEM0QYV8XWc",
        "outputId": "4a6739da-b517-4228-8d5c-1bd56aa6e8e5"
      },
      "outputs": [
        {
          "data": {
            "text/plain": [
              "(np.float64(0.8741258741258742), np.float64(0.9989711934156379))"
            ]
          },
          "execution_count": 17,
          "metadata": {},
          "output_type": "execute_result"
        }
      ],
      "source": [
        "evaluate(sms_thresh_predictions, Y_test_labels)"
      ]
    },
    {
      "cell_type": "code",
      "execution_count": null,
      "metadata": {
        "colab": {
          "base_uri": "https://localhost:8080/"
        },
        "id": "-wqWxAQC8XWc",
        "outputId": "93a7f04b-c426-46fd-c522-7ddb3250bcdb"
      },
      "outputs": [
        {
          "data": {
            "text/plain": [
              "array([[971,   1],\n",
              "       [ 18, 125]])"
            ]
          },
          "execution_count": 18,
          "metadata": {},
          "output_type": "execute_result"
        }
      ],
      "source": [
        "import sklearn.metrics as skm\n",
        "\n",
        "def confusion_matrix(y_true, y_pred):\n",
        "    return skm.confusion_matrix(y_true, y_pred)\n",
        "\n",
        "confusion_matrix(Y_test_labels, sms_thresh_predictions)"
      ]
    },
    {
      "cell_type": "code",
      "execution_count": null,
      "metadata": {
        "colab": {
          "base_uri": "https://localhost:8080/",
          "height": 754
        },
        "id": "6Ql01wuC8XWc",
        "outputId": "0ef61798-185c-422f-ca37-32ec38ed0c28"
      },
      "outputs": [
        {
          "data": {
            "image/png": "[encoded data removed]",
            "text/plain": [
              "<Figure size 800x800 with 1 Axes>"
            ]
          },
          "metadata": {},
          "output_type": "display_data"
        },
        {
          "name": "stdout",
          "output_type": "stream",
          "text": [
            "AUC Score: 0.9484769345880458\n",
            "Best threshold: 0.1 with AUC: 0.9484769345880458\n"
          ]
        }
      ],
      "source": [
        "#evaluate the performance of classifier at different threshold settings(ROC (Receiver Operating Characteristic) Curve)\n",
        "def plot_roc_curve(y_true, y_preds):\n",
        "    fpr, tpr, thresholds = skm.roc_curve(y_true, y_preds)\n",
        "    plt.figure(figsize=(8, 8))\n",
        "    plt.plot(fpr, tpr, color='black', lw=2)\n",
        "    plt.plot([0, 1], [0, 1], color='red', lw=2, linestyle='--')\n",
        "    plt.xlabel('False Positive Rate')\n",
        "    plt.ylabel('True Positive Rate')\n",
        "    plt.title('ROC Curve')\n",
        "    plt.grid(axis='both', linestyle='--', alpha=0.7)\n",
        "    plt.show()\n",
        "\n",
        "y_pred_50 = classify(X_test, estimates, 0.1)\n",
        "\n",
        "plot_roc_curve(Y_test_labels, y_pred_50)\n",
        "\n",
        "auc_score = skm.roc_auc_score(Y_test_labels, y_pred_50)\n",
        "print(\"AUC Score:\", auc_score)\n",
        "\n",
        "\n",
        "thresholds = np.arange(0.1, 1.0, 0.1)  # Test different thresholds from 0.1 to 0.9\n",
        "best_auc = 0\n",
        "best_threshold = 0.5\n",
        "\n",
        "for thresh in thresholds:\n",
        "    y_pred_thresh = classify(X_test, estimates, thresh)\n",
        "    auc = skm.roc_auc_score(Y_test_labels, y_pred_thresh)\n",
        "\n",
        "    if auc > best_auc:\n",
        "        best_auc = auc\n",
        "        best_threshold = thresh\n",
        "\n",
        "print(f\"Best threshold: {best_threshold} with AUC: {best_auc}\")\n"
      ]
    },
    {
      "cell_type": "markdown",
      "metadata": {
        "id": "dPgsfphN59rx"
      },
      "source": [
        "## 5 - Extension of the model\n",
        "\n",
        "One extension of the model is to consider a matrix of word counts instead of simply their presence/absence.\n",
        "The model will change in various ways in this case:\n",
        "   - We will count the total number of occurence in the spam or the ham set for each word.\n",
        "   - the words are now considered to occur independently along the sentence (independent Multinoulli). Thus, for a document with k words $\\mathbf{v}=(v_1,\\ldots, v_k)$\n",
        "    \\begin{align}\n",
        "    \\mathbb{P}(\\mathbf{v} \\mid y = s)\n",
        "  & =  \\prod_{t=1}^{k} p_{v_t}\n",
        "    \\end{align}\n",
        "       where $p_v$ is the probability to observe a word $v$\n",
        "       \n",
        "Note that with this new model we compute a product over the positions in the sentence while the bernoulli model did a product over all the words in the corpus.\n",
        "\n",
        "1. Implement the estimation of parameters for this model and the computation of the posterior class probabilities. This question can be interpreted in different ways, please justify your choices.\n",
        "2. Compare its accuracy and ROC curve with the previous model on a test set (*e.g.* go over section 3 and 4 again for this model).\n",
        "\n"
      ]
    },
    {
      "cell_type": "code",
      "execution_count": null,
      "metadata": {
        "id": "eYHUreVw80Ch"
      },
      "outputs": [],
      "source": [
        "\n",
        "message_data = np.loadtxt(\"/content/SMSSpamCollection_cleaned.csv\", delimiter=\"\\t\", skiprows=1, dtype=str)\n",
        "def construct_corpus_mm(data):\n",
        "\n",
        "    dico = {}\n",
        "    for i, col in enumerate(data):\n",
        "        message = col[1]\n",
        "        for word in message.split():\n",
        "            if word not in dico:\n",
        "                dico[word] = len(dico)\n",
        "    return dico\n"
      ]
    },
    {
      "cell_type": "code",
      "execution_count": null,
      "metadata": {
        "id": "odO8bfwW87vy"
      },
      "outputs": [],
      "source": [
        "def recode_messages_Mm(data, dico):\n",
        "    num_messages = data.shape[0]\n",
        "    num_words = len(dico)\n",
        "    matrix = np.zeros((num_messages, num_words), dtype=int)\n",
        "    for i, row in enumerate(data):\n",
        "        message = row[1]\n",
        "        for word in message.split():\n",
        "            if word in dico:\n",
        "                word_index = dico[word]\n",
        "                matrix[i, word_index] += 1\n",
        "    return matrix\n"
      ]
    },
    {
      "cell_type": "code",
      "execution_count": null,
      "metadata": {
        "id": "yJpoc38s9Brr"
      },
      "outputs": [],
      "source": [
        "from sklearn.model_selection import train_test_split\n",
        "from sklearn.naive_bayes import MultinomialNB\n",
        "from sklearn.metrics import accuracy_score, confusion_matrix, classification_report\n",
        "\n",
        "dico = construct_corpus(message_data)\n",
        "matrix = recode_messages(message_data, dico)\n",
        "labels = message_data[:, 0]\n",
        "\n",
        "X_train, X_test, Y_train, Y_test = train_test_split(matrix, labels, train_size=0.8, random_state=42)\n"
      ]
    },
    {
      "cell_type": "code",
      "execution_count": null,
      "metadata": {
        "id": "mfLj-cDW9Fe9"
      },
      "outputs": [],
      "source": [
        "model = MultinomialNB()\n",
        "model.fit(X_train, Y_train)\n",
        "\n",
        "# Step 6: Make predictions on the test set\n",
        "Y_pred = model.predict(X_test)"
      ]
    },
    {
      "cell_type": "code",
      "execution_count": null,
      "metadata": {
        "colab": {
          "base_uri": "https://localhost:8080/"
        },
        "id": "QKJa8AoX9IFq",
        "outputId": "b131970e-ffb6-4b96-c32f-f69cd8ee9442"
      },
      "outputs": [
        {
          "name": "stdout",
          "output_type": "stream",
          "text": [
            "Model Accuracy: 0.9856502242152466\n",
            "\n",
            "Confusion Matrix:\n",
            " [[957   9]\n",
            " [  7 142]]\n",
            "\n",
            "Classification Report:\n",
            "               precision    recall  f1-score   support\n",
            "\n",
            "         ham       0.99      0.99      0.99       966\n",
            "        spam       0.94      0.95      0.95       149\n",
            "\n",
            "    accuracy                           0.99      1115\n",
            "   macro avg       0.97      0.97      0.97      1115\n",
            "weighted avg       0.99      0.99      0.99      1115\n",
            "\n"
          ]
        }
      ],
      "source": [
        "accuracy = accuracy_score(Y_test, Y_pred)\n",
        "conf_matrix = confusion_matrix(Y_test, Y_pred)\n",
        "class_report = classification_report(Y_test, Y_pred, target_names=[\"ham\", \"spam\"])\n",
        "\n",
        "# Print the evaluation results\n",
        "print(\"Model Accuracy:\", accuracy)\n",
        "print(\"\\nConfusion Matrix:\\n\", conf_matrix)\n",
        "print(\"\\nClassification Report:\\n\", class_report)\n"
      ]
    }
  ],
  "metadata": {
    "colab": {
      "provenance": []
    },
    "kernelspec": {
      "display_name": "compstat",
      "language": "python",
      "name": "compstat"
    },
    "language_info": {
      "codemirror_mode": {
        "name": "ipython",
        "version": 3
      },
      "file_extension": ".py",
      "mimetype": "text/x-python",
      "name": "python",
      "nbconvert_exporter": "python",
      "pygments_lexer": "ipython3",
      "version": "3.12.2"
    },
    "vscode": {
      "interpreter": {
        "hash": "aee8b7b246df8f9039afb4144a1f6fd8d2ca17a180786b69acc140d282b71a49"
      }
    }
  },
  "nbformat": 4,
  "nbformat_minor": 0
}
